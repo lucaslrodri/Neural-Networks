{
 "cells": [
  {
   "cell_type": "markdown",
   "id": "9775c2d5-8f2a-46d4-9391-e32e61416f10",
   "metadata": {},
   "source": [
    "# Introdução"
   ]
  },
  {
   "cell_type": "markdown",
   "id": "9c2c959d-d21d-4459-8d62-6f010df613df",
   "metadata": {},
   "source": [
    "Neste Notebook será apresentado técnicas para a"
   ]
  },
  {
   "cell_type": "code",
   "execution_count": null,
   "id": "64d2188e-cb72-4224-b9a9-5931a2f87a6b",
   "metadata": {},
   "outputs": [],
   "source": []
  }
 ],
 "metadata": {
  "kernelspec": {
   "display_name": "Python 3",
   "language": "python",
   "name": "python3"
  },
  "language_info": {
   "codemirror_mode": {
    "name": "ipython",
    "version": 3
   },
   "file_extension": ".py",
   "mimetype": "text/x-python",
   "name": "python",
   "nbconvert_exporter": "python",
   "pygments_lexer": "ipython3",
   "version": "3.8.10"
  }
 },
 "nbformat": 4,
 "nbformat_minor": 5
}
