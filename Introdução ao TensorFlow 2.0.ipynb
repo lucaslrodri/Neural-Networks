{
 "cells": [
  {
   "cell_type": "markdown",
   "id": "8d5a7155-c2b8-4f6c-9519-19561fd6125f",
   "metadata": {},
   "source": [
    "# Aulas de Redes Neurais\n",
    "\n",
    "- https://www.youtube.com/watch?v=qoAB5z23lQk"
   ]
  },
  {
   "cell_type": "code",
   "execution_count": 8,
   "id": "0c076d05-4811-4b83-a4de-74c5cb989e34",
   "metadata": {},
   "outputs": [],
   "source": [
    "import tensorflow as tf\n",
    "import numpy as np"
   ]
  },
  {
   "cell_type": "code",
   "execution_count": 9,
   "id": "b4df3c33-f3ac-44e8-8e39-868c1f5050bd",
   "metadata": {},
   "outputs": [
    {
     "data": {
      "text/plain": [
       "'2.4.1'"
      ]
     },
     "execution_count": 9,
     "metadata": {},
     "output_type": "execute_result"
    }
   ],
   "source": [
    "tf.__version__"
   ]
  },
  {
   "cell_type": "markdown",
   "id": "406147e7-99d9-41df-857e-cd435924d9b3",
   "metadata": {},
   "source": [
    "# Definindo uma constante"
   ]
  },
  {
   "cell_type": "code",
   "execution_count": 10,
   "id": "99572d7f-3239-4fd5-93cf-6d89e2500a58",
   "metadata": {},
   "outputs": [
    {
     "data": {
      "text/plain": [
       "<tf.Tensor: shape=(2, 2), dtype=int32, numpy=\n",
       "array([[23,  4],\n",
       "       [32, 51]], dtype=int32)>"
      ]
     },
     "execution_count": 10,
     "metadata": {},
     "output_type": "execute_result"
    }
   ],
   "source": [
    "# Definido uma constante no TensorFlow\n",
    "tensor = tf.constant([[23,4],[32,51]])\n",
    "tensor"
   ]
  },
  {
   "cell_type": "code",
   "execution_count": 16,
   "id": "8823d5a9-3dc3-4b28-8947-46fc9f27338c",
   "metadata": {},
   "outputs": [
    {
     "data": {
      "text/plain": [
       "<bound method _EagerTensorBase.numpy of <tf.Tensor: shape=(2, 2), dtype=int32, numpy=\n",
       "array([[23,  4],\n",
       "       [32, 51]], dtype=int32)>>"
      ]
     },
     "execution_count": 16,
     "metadata": {},
     "output_type": "execute_result"
    }
   ],
   "source": [
    "# Acessando as dimensões de um tensor\n",
    "tensor.shape"
   ]
  },
  {
   "cell_type": "code",
   "execution_count": 17,
   "id": "d4ae0144-0953-48fe-bbc0-8ee20c0102c8",
   "metadata": {},
   "outputs": [
    {
     "data": {
      "text/plain": [
       "array([[23,  4],\n",
       "       [32, 51]], dtype=int32)"
      ]
     },
     "execution_count": 17,
     "metadata": {},
     "output_type": "execute_result"
    }
   ],
   "source": [
    "# Acessando os valores de um tensor com o numpy sem precisar de uma seção\n",
    "tensor.numpy()"
   ]
  },
  {
   "cell_type": "code",
   "execution_count": 18,
   "id": "cc46f242-647b-442c-9bd6-d800f299ad56",
   "metadata": {},
   "outputs": [
    {
     "data": {
      "text/plain": [
       "array([[30, 20],\n",
       "       [10, 45]])"
      ]
     },
     "execution_count": 18,
     "metadata": {},
     "output_type": "execute_result"
    }
   ],
   "source": [
    "# Podemos converter um numpy array para um tensor do TensorFlow\n",
    "numpy_array = np.array([[30, 20],[10, 45]])\n",
    "numpy_array"
   ]
  },
  {
   "cell_type": "code",
   "execution_count": 19,
   "id": "893bdfde-3a97-4f8f-b71c-49ec6c8f24ce",
   "metadata": {},
   "outputs": [
    {
     "data": {
      "text/plain": [
       "<tf.Tensor: shape=(2, 2), dtype=int64, numpy=\n",
       "array([[30, 20],\n",
       "       [10, 45]])>"
      ]
     },
     "execution_count": 19,
     "metadata": {},
     "output_type": "execute_result"
    }
   ],
   "source": [
    "# Se uma sessão não for inicializada, não podemos acessar os valores da constante\n",
    "tensor_from_np = tf.constant(numpy_array)\n",
    "tensor_from_np"
   ]
  },
  {
   "cell_type": "markdown",
   "id": "c788cc79-0942-4d78-9014-3f1a23ccb87f",
   "metadata": {},
   "source": [
    "# Definindo uma variável"
   ]
  },
  {
   "cell_type": "code",
   "execution_count": 5,
   "id": "ce5cfd06-d9eb-46b1-94de-6beeb30fb3ea",
   "metadata": {},
   "outputs": [
    {
     "name": "stdout",
     "output_type": "stream",
     "text": [
      "Iteration 0 Score: 0 1 Score: 1 2 Score: 4 3 Score: 9 4 Score: 16 5 Score: 25 6 Score: 36 7 Score: 49 8 Score: 64 9 Score: 81\r"
     ]
    }
   ],
   "source": [
    "import time\n",
    "for i in range(10):\n",
    "    print('Iteration', i, 'Score:', i**2, end='')\n",
    "    time.sleep(i)\n",
    "    print('', end='\\r')"
   ]
  },
  {
   "cell_type": "code",
   "execution_count": 20,
   "id": "813076d8-f33e-41c9-83e1-0f78229bcac8",
   "metadata": {},
   "outputs": [
    {
     "data": {
      "text/plain": [
       "<tf.Variable 'Variable:0' shape=(2, 3) dtype=float32, numpy=\n",
       "array([[1., 2., 3.],\n",
       "       [4., 5., 6.]], dtype=float32)>"
      ]
     },
     "execution_count": 20,
     "metadata": {},
     "output_type": "execute_result"
    }
   ],
   "source": [
    "# Definindo uma variável\n",
    "\n",
    "variable = tf.Variable([[1.,2.,3.],[4.,5.,6.]])\n",
    "variable"
   ]
  },
  {
   "cell_type": "code",
   "execution_count": 21,
   "id": "8fc95b98-cea1-4a78-9b07-0ffb5ce7889d",
   "metadata": {},
   "outputs": [
    {
     "data": {
      "text/plain": [
       "array([[1., 2., 3.],\n",
       "       [4., 5., 6.]], dtype=float32)"
      ]
     },
     "execution_count": 21,
     "metadata": {},
     "output_type": "execute_result"
    }
   ],
   "source": [
    "# Acessando o valor de uma variável\n",
    "variable.numpy()"
   ]
  },
  {
   "cell_type": "code",
   "execution_count": 22,
   "id": "c8fa1263-c96c-4d05-937d-5e3674cd5d9c",
   "metadata": {},
   "outputs": [
    {
     "data": {
      "text/plain": [
       "<tf.Variable 'Variable:0' shape=(2, 3) dtype=float32, numpy=\n",
       "array([[  1.,   2., 100.],\n",
       "       [  4.,   5.,   6.]], dtype=float32)>"
      ]
     },
     "execution_count": 22,
     "metadata": {},
     "output_type": "execute_result"
    }
   ],
   "source": [
    "# Alterando um valor específico de uma variável\n",
    "variable[0,2].assign(100)\n",
    "variable"
   ]
  },
  {
   "cell_type": "markdown",
   "id": "2dd394ca-adfb-40bc-ac17-b1933cb5b9ae",
   "metadata": {},
   "source": [
    "# Operação com tensores"
   ]
  },
  {
   "cell_type": "code",
   "execution_count": 23,
   "id": "9e42d4d9-f37a-4405-9ce1-29539c156765",
   "metadata": {},
   "outputs": [
    {
     "data": {
      "text/plain": [
       "<tf.Tensor: shape=(2, 2), dtype=int32, numpy=\n",
       "array([[1, 2],\n",
       "       [3, 4]], dtype=int32)>"
      ]
     },
     "execution_count": 23,
     "metadata": {},
     "output_type": "execute_result"
    }
   ],
   "source": [
    "# Definindo o tensor\n",
    "tensor2 = tf.constant([[1,2],[3,4]])\n",
    "tensor2"
   ]
  },
  {
   "cell_type": "code",
   "execution_count": 26,
   "id": "8509300b-565e-4296-ad28-517fb8115b85",
   "metadata": {},
   "outputs": [
    {
     "data": {
      "text/plain": [
       "<tf.Tensor: shape=(2, 2), dtype=int32, numpy=\n",
       "array([[3, 4],\n",
       "       [5, 6]], dtype=int32)>"
      ]
     },
     "execution_count": 26,
     "metadata": {},
     "output_type": "execute_result"
    }
   ],
   "source": [
    "# Adição de um tensor com um escalar\n",
    "tensor2+2"
   ]
  },
  {
   "cell_type": "code",
   "execution_count": 27,
   "id": "4f940040-e734-43b9-8b9c-2527b1cd45c0",
   "metadata": {},
   "outputs": [
    {
     "data": {
      "text/plain": [
       "<tf.Tensor: shape=(2, 2), dtype=int32, numpy=\n",
       "array([[ 5, 10],\n",
       "       [15, 20]], dtype=int32)>"
      ]
     },
     "execution_count": 27,
     "metadata": {},
     "output_type": "execute_result"
    }
   ],
   "source": [
    "# Mutiplicação de um tensor por um escalar\n",
    "tensor2*5"
   ]
  },
  {
   "cell_type": "markdown",
   "id": "b0c2fdb8-a497-42bc-ac36-528f2d1dc572",
   "metadata": {},
   "source": [
    "## Funções do numpy com tensores"
   ]
  },
  {
   "cell_type": "code",
   "execution_count": 28,
   "id": "a114aeb1-711d-4cce-a4b1-a961c8e6d31a",
   "metadata": {},
   "outputs": [
    {
     "data": {
      "text/plain": [
       "array([[ 1,  4],\n",
       "       [ 9, 16]], dtype=int32)"
      ]
     },
     "execution_count": 28,
     "metadata": {},
     "output_type": "execute_result"
    }
   ],
   "source": [
    "# Elevando ao quadrado\n",
    "np.square(tensor2)"
   ]
  },
  {
   "cell_type": "code",
   "execution_count": 29,
   "id": "26191ce4-73c2-4667-8a3c-6dcc033d1978",
   "metadata": {},
   "outputs": [
    {
     "data": {
      "text/plain": [
       "array([[1.        , 1.41421356],\n",
       "       [1.73205081, 2.        ]])"
      ]
     },
     "execution_count": 29,
     "metadata": {},
     "output_type": "execute_result"
    }
   ],
   "source": [
    "# Raiz quadrada\n",
    "np.sqrt(tensor2)"
   ]
  },
  {
   "cell_type": "code",
   "execution_count": 30,
   "id": "8cc36fca-2e43-485d-b297-71d44e89fdfc",
   "metadata": {},
   "outputs": [
    {
     "data": {
      "text/plain": [
       "array([[ 0.84147098,  0.90929743],\n",
       "       [ 0.14112001, -0.7568025 ]])"
      ]
     },
     "execution_count": 30,
     "metadata": {},
     "output_type": "execute_result"
    }
   ],
   "source": [
    "# Seno\n",
    "np.sin(tensor2)"
   ]
  },
  {
   "cell_type": "code",
   "execution_count": 33,
   "id": "03f291e4-8cf5-42c3-b7fe-7ccce1979024",
   "metadata": {},
   "outputs": [
    {
     "data": {
      "text/plain": [
       "array([[1, 2],\n",
       "       [3, 4]], dtype=int32)"
      ]
     },
     "execution_count": 33,
     "metadata": {},
     "output_type": "execute_result"
    }
   ],
   "source": [
    "# Produto escalar\n",
    "tensor3=tf.constant([[1,0],[0,1]])\n",
    "\n",
    "np.dot(tensor2,tensor3)"
   ]
  },
  {
   "cell_type": "markdown",
   "id": "17ea5ca1-b0a1-4853-8844-803f3a557aae",
   "metadata": {},
   "source": [
    "# Strings"
   ]
  },
  {
   "cell_type": "code",
   "execution_count": 35,
   "id": "493faee2-4cbb-416c-bf61-407ccdf7e904",
   "metadata": {},
   "outputs": [
    {
     "data": {
      "text/plain": [
       "<tf.Tensor: shape=(), dtype=string, numpy=b'Tensorflow'>"
      ]
     },
     "execution_count": 35,
     "metadata": {},
     "output_type": "execute_result"
    }
   ],
   "source": [
    "tf_string = tf.constant('Tensorflow')\n",
    "tf_string"
   ]
  },
  {
   "cell_type": "markdown",
   "id": "1f383b83-fc6c-48aa-8298-ccc6b5895723",
   "metadata": {},
   "source": [
    "## Operações com string"
   ]
  },
  {
   "cell_type": "code",
   "execution_count": 41,
   "id": "1ae2ab45-55dd-4246-9946-a0c95a39e364",
   "metadata": {},
   "outputs": [
    {
     "data": {
      "text/plain": [
       "<tf.Tensor: shape=(), dtype=int32, numpy=10>"
      ]
     },
     "execution_count": 41,
     "metadata": {},
     "output_type": "execute_result"
    }
   ],
   "source": [
    "# Definir tamanho\n",
    "tf.strings.length(tf_string)"
   ]
  },
  {
   "cell_type": "code",
   "execution_count": 43,
   "id": "2af4858c-3945-4474-abdc-7badacc4279a",
   "metadata": {},
   "outputs": [
    {
     "data": {
      "text/plain": [
       "<tf.Tensor: shape=(10,), dtype=int32, numpy=array([ 84, 101, 110, 115, 111, 114, 102, 108, 111, 119], dtype=int32)>"
      ]
     },
     "execution_count": 43,
     "metadata": {},
     "output_type": "execute_result"
    }
   ],
   "source": [
    "# Definir decodificação\n",
    "\n",
    "tf.strings.unicode_decode(tf_string,'UTF8')"
   ]
  },
  {
   "cell_type": "markdown",
   "id": "138b4868-2359-4ec3-9fe8-0382b1511737",
   "metadata": {},
   "source": [
    "## Armazenando arrays (vetores) de strings"
   ]
  },
  {
   "cell_type": "code",
   "execution_count": 51,
   "id": "c49a5334-cb23-4033-ae63-24b8e2f7130f",
   "metadata": {},
   "outputs": [
    {
     "name": "stdout",
     "output_type": "stream",
     "text": [
      "b'TensorFlow'\n",
      "Len: 10\n",
      "Code: [ 84 101 110 115 111 114  70 108 111 119]\n",
      "\n",
      "b'Deep Learning'\n",
      "Len: 13\n",
      "Code: [ 68 101 101 112  32  76 101  97 114 110 105 110 103]\n",
      "\n",
      "b'AI'\n",
      "Len: 2\n",
      "Code: [65 73]\n",
      "\n"
     ]
    }
   ],
   "source": [
    "# Definindo o array de strings\n",
    "tf_string_array = tf.constant([\"TensorFlow\",\"Deep Learning\",\"AI\"])\n",
    "\n",
    "# Imprimindo os parâmetros encontrados\n",
    "for string in tf_string_array:\n",
    "    print(string.numpy())\n",
    "    print('Len:',tf.strings.length(string).numpy())\n",
    "    print('Code:',tf.strings.unicode_decode(string,'UTF8').numpy())\n",
    "    print()"
   ]
  },
  {
   "cell_type": "code",
   "execution_count": null,
   "id": "82375029-4c81-4d75-8613-96d717fcc2fe",
   "metadata": {},
   "outputs": [],
   "source": []
  }
 ],
 "metadata": {
  "kernelspec": {
   "display_name": "Python 3.8 (XPython)",
   "language": "python",
   "name": "xpython"
  },
  "language_info": {
   "file_extension": ".py",
   "mimetype": "text/x-python",
   "name": "python",
   "version": "3.8.12"
  }
 },
 "nbformat": 4,
 "nbformat_minor": 5
}
